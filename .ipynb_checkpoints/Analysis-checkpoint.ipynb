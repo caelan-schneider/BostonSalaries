{
 "cells": [
  {
   "cell_type": "code",
   "execution_count": 118,
   "metadata": {},
   "outputs": [],
   "source": [
    "import pandas as pd\n",
    "import numpy as np"
   ]
  },
  {
   "cell_type": "code",
   "execution_count": 123,
   "metadata": {},
   "outputs": [
    {
     "name": "stdout",
     "output_type": "stream",
     "text": [
      "                   NAME               DEPARTMENT_NAME  \\\n",
      "0     Bottomley,Torii A          BPS Business Service   \n",
      "1         Smith,Lincoln  Workers Compensation Service   \n",
      "2     Kervin,Timothy M.      Boston Police Department   \n",
      "3      Danilecki,John H      Boston Police Department   \n",
      "4      Maguire,Joseph M      Boston Police Department   \n",
      "5          Smith,Sean P      Boston Police Department   \n",
      "6            Lee,Waiman      Boston Police Department   \n",
      "7  Fitzpatrick,James J.      Boston Police Department   \n",
      "8    Doherty,Michael J.        Boston Fire Department   \n",
      "9     Barrett,Thomas E.      Boston Police Department   \n",
      "\n",
      "                            TITLE       REGULAR         RETRO         OTHER   \\\n",
      "0     BPS Worker's Comp Job Class           -             -             -      \n",
      "1   Workers Comp Job Classificatn           -             -             -      \n",
      "2  Police Lieutenant/Hdq Dispatch    142,061.86           -       21,262.85    \n",
      "3                  Police Captain    161,608.85           -       24,040.29    \n",
      "4  Police Sergeant/Hdq Dispatcher    128,912.77           -        7,128.30    \n",
      "5               Police Lieutenant    136,744.24           -       17,416.65    \n",
      "6                Police Detective    105,207.00           -       15,884.43    \n",
      "7              Police Captain/DDC    158,371.53           -       22,879.13    \n",
      "8                  Dep Fire Chief    196,509.54     21,448.76      9,175.49    \n",
      "9           Police Sergeant (Det)    128,783.77           -       16,376.39    \n",
      "\n",
      "       OVERTIME        INJURED         DETAIL   QUINN/EDUCATION INCENTIVE   \\\n",
      "0           -       772,034.24            -                           -      \n",
      "1           -       401,182.80            -                           -      \n",
      "2    115,361.12            -        41,360.00                   35,492.87    \n",
      "3     68,964.13            -        53,040.00                   40,402.20    \n",
      "4    121,616.21            -        55,544.00                   31,310.86    \n",
      "5     91,725.57            -        62,747.00                   33,989.51    \n",
      "6     76,339.92            -       115,782.00                   26,301.82    \n",
      "7     45,127.54            -        72,600.00                   39,593.04    \n",
      "8     75,460.12      10,859.41      19,172.75                         -      \n",
      "9    154,721.47            -              -                     32,196.01    \n",
      "\n",
      "  TOTAL EARNINGS  POSTAL  \n",
      "0     772,034.24    1938  \n",
      "1     401,182.80    2125  \n",
      "2     355,538.70    2135  \n",
      "3     348,055.47    2081  \n",
      "4     344,512.14    2038  \n",
      "5     342,622.97    2186  \n",
      "6     339,515.17    2134  \n",
      "7     338,571.24    2062  \n",
      "8     332,626.07    1867  \n",
      "9     332,077.64    2132  \n"
     ]
    }
   ],
   "source": [
    "df = pd.read_csv('./data/salaries_2019.csv', na_values=['-'])\n",
    "print(df.head(10))"
   ]
  },
  {
   "cell_type": "code",
   "execution_count": 124,
   "metadata": {},
   "outputs": [
    {
     "name": "stdout",
     "output_type": "stream",
     "text": [
      "NAME                           object\n",
      "DEPARTMENT_NAME                object\n",
      "TITLE                          object\n",
      " REGULAR                       object\n",
      " RETRO                         object\n",
      " OTHER                         object\n",
      " OVERTIME                      object\n",
      " INJURED                       object\n",
      " DETAIL                        object\n",
      " QUINN/EDUCATION INCENTIVE     object\n",
      "TOTAL EARNINGS                 object\n",
      "POSTAL                          int64\n",
      "dtype: object\n"
     ]
    }
   ],
   "source": [
    "print(df.dtypes)"
   ]
  },
  {
   "cell_type": "code",
   "execution_count": 128,
   "metadata": {},
   "outputs": [],
   "source": [
    "df[df.columns[3:-1]] = df[df.columns[3:-1]].applymap(lambda x: x.strip()).replace({'^-$':0, ',':'', '\\(':'', '\\)':''}, regex=True).astype(float)\n",
    "df[df.columns[0:3]] = df[df.columns[0:3]].astype(str)"
   ]
  },
  {
   "cell_type": "code",
   "execution_count": 129,
   "metadata": {},
   "outputs": [
    {
     "name": "stdout",
     "output_type": "stream",
     "text": [
      "NAME                            object\n",
      "DEPARTMENT_NAME                 object\n",
      "TITLE                           object\n",
      " REGULAR                       float64\n",
      " RETRO                         float64\n",
      " OTHER                         float64\n",
      " OVERTIME                      float64\n",
      " INJURED                       float64\n",
      " DETAIL                        float64\n",
      " QUINN/EDUCATION INCENTIVE     float64\n",
      "TOTAL EARNINGS                 float64\n",
      "POSTAL                           int64\n",
      "dtype: object\n"
     ]
    }
   ],
   "source": [
    "print(df.dtypes)"
   ]
  },
  {
   "cell_type": "code",
   "execution_count": 130,
   "metadata": {},
   "outputs": [
    {
     "name": "stdout",
     "output_type": "stream",
     "text": [
      "['BPS Business Service' 'Workers Compensation Service'\n",
      " 'Boston Police Department' 'Boston Fire Department'\n",
      " 'Inspectional Services Dept' 'BPS Facility Management'\n",
      " 'Auditing Department' 'Chief of Staff' 'Boston Public Library'\n",
      " 'Dpt of Innovation & Technology' \"Mayor's Office\"\n",
      " 'Public Works Department' 'BPS Human Resource Team'\n",
      " 'Treasury-Treasury Division' 'Traffic Division'\n",
      " 'Public Facilities Department' 'Property Management'\n",
      " 'Kennedy, EM Health Academy' 'BPS High School Renewal'\n",
      " 'Chief Operating Officer' 'Achievement Gap' 'Fam & Student Engagemt'\n",
      " 'School Support & Tranformation' 'BPS Boston Latin'\n",
      " 'Advancement & Ext. Affairs' 'Jackson/Mann K-8' 'Tech Boston Academy'\n",
      " 'Parks Department' 'BPS Special Education' 'Unified Student Svc'\n",
      " \"BPS O'Bryant School\" 'BPS Charlestown High' 'BPS East Boston High'\n",
      " 'Strategy Department' 'Election Division' 'Law Department'\n",
      " 'Neighborhood Development' 'Teaching & Learning' 'BPS Madison Park High'\n",
      " 'BPS Equity' 'Boston Retirement System' 'Chief Academic Officer'\n",
      " 'Henderson Elementary' 'BPS Facility Mgmt/A & R' 'BPS Murphy Elementary'\n",
      " 'Curley K-8' 'Chief Financial Officer' 'Eliot K-8'\n",
      " 'BPS Condon Elementary' 'BPS Orchard Gardens K-8 Pilot'\n",
      " 'BPS Lee Elementary' 'BPS Cl#10 Lee Academy' 'English Language Learn'\n",
      " 'Office of Economic Development' 'Umana Middle' 'BPS Dever Elementary'\n",
      " 'BPS Quincy Elementary' 'BPS Everett Elementary'\n",
      " 'BPS Health and Wellness' 'BPS Brighton High' 'Early Learning Services'\n",
      " 'Food & Nutrition Svc' 'BPS Mather Elementary' 'Superintendent'\n",
      " 'BPS Counseling Service' 'BPS Chittick Elementary'\n",
      " 'ASD Office of Budget Mangmnt' 'Roosevelt K-8' 'BPS Edwards Middle'\n",
      " 'BPS School Safety Service' 'Cemetery Division'\n",
      " 'BPS Harvard/Kent Elementary' 'BPS Fenway High' 'BPS Mckay Elementary'\n",
      " 'BPS Tynan Elementary' 'Gardner Pilot  Academy' 'Lyon Pilot High 9-12'\n",
      " 'BPS Latin Academy' 'BPS Burke High' 'Neighborhood Services'\n",
      " 'Quincy Upper School' 'BPS Dearborn Middle'\n",
      " 'Boston Cntr - Youth & Families' 'BPS Mendell Elementary'\n",
      " 'BPS Grew Elementary' 'Warren/Prescott K-8' 'Newcomers Academy'\n",
      " 'BPS Sumner Elementary' 'BPS Adult Education' 'Career & Technical Ed'\n",
      " 'BPS Winship Elementary' 'BPS Otis Elementary' 'Margarita Muniz Academy'\n",
      " 'Perry K-8' 'Haley Pilot' 'BPS South Boston HS - Excel'\n",
      " 'BPS New Mission Pilot' 'BPS Timilty Middle' 'BPS Winthrop Elementary'\n",
      " 'Mildred Avenue K-8' 'BPS Transportation' 'Office of Streets'\n",
      " 'Assessing Department' 'Consumer Affairs & Licensing'\n",
      " 'BPS Guild Elementary' 'BPS McKinley Middle' 'Green Academy'\n",
      " 'Mattahunt Elementary School' 'BPS Boston Arts Academy'\n",
      " 'BPS Boston Evening Academy' 'BPS Manning Elementary'\n",
      " 'Treasury-Collecting Division' 'Emergency Management' 'BTU Pilot'\n",
      " 'Info & Instr Technology' 'BPS Taylor Elementary'\n",
      " 'Environment Department' 'BPS Channing Elementary'\n",
      " 'BPS Beethoven Elementary' 'Fenway High School' 'Higginson/Lewis K-8'\n",
      " 'Research Assess & Eval' 'BPS Horace Mann' 'Frederick Pilot Middle'\n",
      " 'Haynes EEC' 'BPS Boston International HS' 'BPS Hennigan Elementary'\n",
      " 'BPS Conley Elementary' 'Tobin K-8' 'BPS Carter Center'\n",
      " 'BPS Mason Elementary' 'Student Support Svc' 'Edison K-8'\n",
      " 'BPS Snowden International Hi' 'BPS Kenny Elementary' 'City Clerk'\n",
      " 'BPS Boston Comm Leadership Ac' 'BPS English High'\n",
      " 'Boston Collaborative High Sch' 'Greenwood, S K-8' 'King K-8'\n",
      " 'BPS Alternative Education HS' 'Dudley St. Neighborhood School'\n",
      " 'BPS McCormack Middle' 'Finance Commission' 'BPS Irving Middle'\n",
      " 'Diplomas Plus' 'BPS Another Course To Colleg' 'Young Achievers K-8'\n",
      " 'BPS Hale Elementary' 'Kennedy, JF Elementary' 'Kennedy, PJ Elementary'\n",
      " 'BPS Bradley Elementary' 'BPS Community Academy' 'ASD Human Resources'\n",
      " 'BPS Higginson Elementary' 'Transportation-Parking Clerk'\n",
      " 'BPS Trotter Elementary' 'BPS Ellis Elementary' 'East Boston EEC'\n",
      " 'BPS Bates Elementary' 'HPEC: Com Acd Science & Health'\n",
      " 'BPS Ohrenberger Elementary' 'BPS Holmes Elementary'\n",
      " 'UP \"Unlocking Potential\" Acad' 'Greater Egleston High'\n",
      " 'BPS Blackstone Elementary' 'Office of Arts & Culture'\n",
      " 'BPS Adams Elementary' 'Ellison/Parks EES' \"BPS O'Donnell Elementary\"\n",
      " 'Mission Hill K-8' 'BPS Philbrick Elementary' 'Lyndon K-8'\n",
      " 'BPS Counseling & Intervtn Ct' 'Kilmer K-8' 'BPS Clap Elementary'\n",
      " 'BPS Perkins Elementary' 'BPS Mozart Elementary'\n",
      " 'BPS Office Of Budget Mgmt' 'BPS Labor Relations' 'BPS Athletics'\n",
      " 'BPS Health Service' 'WREC: Urban Science Academy'\n",
      " 'ASD Office Of Labor Relation' 'Lyon K-8' 'Hurley K-8' 'West Zone ELC'\n",
      " 'ASD Intergvernmtl Relations' 'Hernandez K-8' 'BPS Russell Elementary'\n",
      " 'BPS Long Term Leave' 'UP Academy Dorchester' 'Baldwin ELC'\n",
      " 'ASD Purchasing Division' 'Office of Admin & Finance'\n",
      " 'P. A. Shaw Elementary' 'UP Academy Holland' 'BPS Alternative Education'\n",
      " 'West Roxbury Academy' 'Accountability' 'BPS Welcome Services'\n",
      " 'Boston City Council' 'Alighieri Montessori School' 'Enrollment Services'\n",
      " 'Fair Housing & Equity' 'Registry Division' 'Office of Tourism'\n",
      " 'Age Strong' 'Comm. for Persons with Disabil' \"Women's Advancement\"\n",
      " 'Institutional Advancemt' 'Communications' \"Veterans' Services\"\n",
      " 'BPS Boston School Committee' 'BPS Substitute Teachers/Nurs'\n",
      " 'Youth Engagement & Employment' 'Immigrant Advancement' 'Legal Advisor'\n",
      " 'DND Neighborhood Development' 'BPS Couseling Service'\n",
      " 'BPS South Boston High' 'BPS Withthrop Elementary'\n",
      " 'BPS Roland Hayes Div of Music' 'Dorchester Academy'\n",
      " 'Boston Cntr-Youth & Families' 'BPS Mattahunt Elementary'\n",
      " 'BPS Facilitites Management' 'BPS MPH\\\\Crafts Academy'\n",
      " 'BPS MPH\\\\Commerce Academy']\n"
     ]
    }
   ],
   "source": [
    "print(df['DEPARTMENT_NAME'].unique())"
   ]
  },
  {
   "cell_type": "code",
   "execution_count": 137,
   "metadata": {},
   "outputs": [],
   "source": [
    "BPS_df = (df.loc[df['DEPARTMENT_NAME'].str.contains('^BPS', regex=True)])\n",
    "police_df = (df.loc[df['DEPARTMENT_NAME'].str.contains('Boston Police Department', regex=True)])"
   ]
  },
  {
   "cell_type": "code",
   "execution_count": 138,
   "metadata": {},
   "outputs": [
    {
     "data": {
      "text/html": [
       "<div>\n",
       "<style scoped>\n",
       "    .dataframe tbody tr th:only-of-type {\n",
       "        vertical-align: middle;\n",
       "    }\n",
       "\n",
       "    .dataframe tbody tr th {\n",
       "        vertical-align: top;\n",
       "    }\n",
       "\n",
       "    .dataframe thead th {\n",
       "        text-align: right;\n",
       "    }\n",
       "</style>\n",
       "<table border=\"1\" class=\"dataframe\">\n",
       "  <thead>\n",
       "    <tr style=\"text-align: right;\">\n",
       "      <th></th>\n",
       "      <th>NAME</th>\n",
       "      <th>DEPARTMENT_NAME</th>\n",
       "      <th>TITLE</th>\n",
       "      <th>REGULAR</th>\n",
       "      <th>RETRO</th>\n",
       "      <th>OTHER</th>\n",
       "      <th>OVERTIME</th>\n",
       "      <th>INJURED</th>\n",
       "      <th>DETAIL</th>\n",
       "      <th>QUINN/EDUCATION INCENTIVE</th>\n",
       "      <th>TOTAL EARNINGS</th>\n",
       "      <th>POSTAL</th>\n",
       "    </tr>\n",
       "  </thead>\n",
       "  <tbody>\n",
       "    <tr>\n",
       "      <td>2</td>\n",
       "      <td>Kervin,Timothy M.</td>\n",
       "      <td>Boston Police Department</td>\n",
       "      <td>Police Lieutenant/Hdq Dispatch</td>\n",
       "      <td>142061.86</td>\n",
       "      <td>0.0</td>\n",
       "      <td>21262.85</td>\n",
       "      <td>115361.12</td>\n",
       "      <td>0.0</td>\n",
       "      <td>41360.0</td>\n",
       "      <td>35492.87</td>\n",
       "      <td>355538.70</td>\n",
       "      <td>2135</td>\n",
       "    </tr>\n",
       "    <tr>\n",
       "      <td>3</td>\n",
       "      <td>Danilecki,John H</td>\n",
       "      <td>Boston Police Department</td>\n",
       "      <td>Police Captain</td>\n",
       "      <td>161608.85</td>\n",
       "      <td>0.0</td>\n",
       "      <td>24040.29</td>\n",
       "      <td>68964.13</td>\n",
       "      <td>0.0</td>\n",
       "      <td>53040.0</td>\n",
       "      <td>40402.20</td>\n",
       "      <td>348055.47</td>\n",
       "      <td>2081</td>\n",
       "    </tr>\n",
       "    <tr>\n",
       "      <td>4</td>\n",
       "      <td>Maguire,Joseph M</td>\n",
       "      <td>Boston Police Department</td>\n",
       "      <td>Police Sergeant/Hdq Dispatcher</td>\n",
       "      <td>128912.77</td>\n",
       "      <td>0.0</td>\n",
       "      <td>7128.30</td>\n",
       "      <td>121616.21</td>\n",
       "      <td>0.0</td>\n",
       "      <td>55544.0</td>\n",
       "      <td>31310.86</td>\n",
       "      <td>344512.14</td>\n",
       "      <td>2038</td>\n",
       "    </tr>\n",
       "    <tr>\n",
       "      <td>5</td>\n",
       "      <td>Smith,Sean P</td>\n",
       "      <td>Boston Police Department</td>\n",
       "      <td>Police Lieutenant</td>\n",
       "      <td>136744.24</td>\n",
       "      <td>0.0</td>\n",
       "      <td>17416.65</td>\n",
       "      <td>91725.57</td>\n",
       "      <td>0.0</td>\n",
       "      <td>62747.0</td>\n",
       "      <td>33989.51</td>\n",
       "      <td>342622.97</td>\n",
       "      <td>2186</td>\n",
       "    </tr>\n",
       "    <tr>\n",
       "      <td>6</td>\n",
       "      <td>Lee,Waiman</td>\n",
       "      <td>Boston Police Department</td>\n",
       "      <td>Police Detective</td>\n",
       "      <td>105207.00</td>\n",
       "      <td>0.0</td>\n",
       "      <td>15884.43</td>\n",
       "      <td>76339.92</td>\n",
       "      <td>0.0</td>\n",
       "      <td>115782.0</td>\n",
       "      <td>26301.82</td>\n",
       "      <td>339515.17</td>\n",
       "      <td>2134</td>\n",
       "    </tr>\n",
       "  </tbody>\n",
       "</table>\n",
       "</div>"
      ],
      "text/plain": [
       "                NAME           DEPARTMENT_NAME  \\\n",
       "2  Kervin,Timothy M.  Boston Police Department   \n",
       "3   Danilecki,John H  Boston Police Department   \n",
       "4   Maguire,Joseph M  Boston Police Department   \n",
       "5       Smith,Sean P  Boston Police Department   \n",
       "6         Lee,Waiman  Boston Police Department   \n",
       "\n",
       "                            TITLE   REGULAR    RETRO     OTHER    OVERTIME   \\\n",
       "2  Police Lieutenant/Hdq Dispatch  142061.86      0.0  21262.85   115361.12   \n",
       "3                  Police Captain  161608.85      0.0  24040.29    68964.13   \n",
       "4  Police Sergeant/Hdq Dispatcher  128912.77      0.0   7128.30   121616.21   \n",
       "5               Police Lieutenant  136744.24      0.0  17416.65    91725.57   \n",
       "6                Police Detective  105207.00      0.0  15884.43    76339.92   \n",
       "\n",
       "    INJURED    DETAIL    QUINN/EDUCATION INCENTIVE   TOTAL EARNINGS  POSTAL  \n",
       "2        0.0   41360.0                     35492.87       355538.70    2135  \n",
       "3        0.0   53040.0                     40402.20       348055.47    2081  \n",
       "4        0.0   55544.0                     31310.86       344512.14    2038  \n",
       "5        0.0   62747.0                     33989.51       342622.97    2186  \n",
       "6        0.0  115782.0                     26301.82       339515.17    2134  "
      ]
     },
     "execution_count": 138,
     "metadata": {},
     "output_type": "execute_result"
    }
   ],
   "source": [
    "police_df.head(5)"
   ]
  },
  {
   "cell_type": "code",
   "execution_count": 140,
   "metadata": {},
   "outputs": [
    {
     "name": "stdout",
     "output_type": "stream",
     "text": [
      "74925.08491898459 55973.62612336657\n"
     ]
    }
   ],
   "source": [
    "print(np.mean(police_df[df.columns[3]]), np.mean(BPS_df[df.columns[3]]))"
   ]
  },
  {
   "cell_type": "code",
   "execution_count": null,
   "metadata": {},
   "outputs": [],
   "source": []
  }
 ],
 "metadata": {
  "kernelspec": {
   "display_name": "Python 3",
   "language": "python",
   "name": "python3"
  },
  "language_info": {
   "codemirror_mode": {
    "name": "ipython",
    "version": 3
   },
   "file_extension": ".py",
   "mimetype": "text/x-python",
   "name": "python",
   "nbconvert_exporter": "python",
   "pygments_lexer": "ipython3",
   "version": "3.7.4"
  }
 },
 "nbformat": 4,
 "nbformat_minor": 2
}
