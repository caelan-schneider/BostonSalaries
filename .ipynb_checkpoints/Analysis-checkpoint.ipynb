{
 "cells": [
  {
   "cell_type": "code",
   "execution_count": 1,
   "metadata": {},
   "outputs": [],
   "source": [
    "import pandas as pd\n",
    "import numpy as np\n",
    "pd.set_option('display.max_rows', 200) "
   ]
  },
  {
   "cell_type": "code",
   "execution_count": 2,
   "metadata": {},
   "outputs": [],
   "source": [
    "#read in the CSV file\n",
    "df_19 = pd.read_csv('./data/salaries_2019.csv')"
   ]
  },
  {
   "cell_type": "code",
   "execution_count": 3,
   "metadata": {},
   "outputs": [
    {
     "name": "stdout",
     "output_type": "stream",
     "text": [
      "NAME                          object\n",
      "DEPARTMENT_NAME               object\n",
      "TITLE                         object\n",
      "REGULAR                      float64\n",
      "RETRO                        float64\n",
      "OTHER                        float64\n",
      "OVERTIME                     float64\n",
      "INJURED                      float64\n",
      "DETAIL                       float64\n",
      "QUINN/EDUCATION INCENTIVE    float64\n",
      "TOTAL EARNINGS               float64\n",
      "POSTAL                         int64\n",
      "dtype: object\n"
     ]
    }
   ],
   "source": [
    "#perform necessary data cleaning and type casting\n",
    "def preprocess_data(df):\n",
    "    #remove whitespace in column headers\n",
    "    df.columns = [col.strip() for col in df.columns]\n",
    "\n",
    "    #convert the first three columns from type 'object' to 'string'\n",
    "    df[df.columns[0:3]] = df[df.columns[0:3]].astype(str)\n",
    " \n",
    "    #clean the remaining columns and convert from type 'object' to 'float', except for the last (POSTAL)\n",
    "    df[df.columns[3:-1]] = df[df.columns[3:-1]].applymap(lambda x: x.strip()) \\\n",
    "    .replace({'^-$|^None$':0, ',':'', '\\(':'', '\\)':''}, regex=True).astype(float)\n",
    "    \n",
    "preprocess_data(df_19)\n",
    "\n",
    "#confirm the types are changed by printing the data types\n",
    "print(df_19.dtypes)"
   ]
  },
  {
   "cell_type": "code",
   "execution_count": 37,
   "metadata": {},
   "outputs": [
    {
     "name": "stdout",
     "output_type": "stream",
     "text": [
      "                    DEPARTMENT_NAME  count\n",
      "121        Boston Police Department   3271\n",
      "120          Boston Fire Department   1766\n",
      "122           Boston Public Library    562\n",
      "117  Boston Cntr - Youth & Families    497\n",
      "200         Public Works Department    436\n",
      "212                Traffic Division    388\n",
      "196                Parks Department    359\n",
      "169      Inspectional Services Dept    222\n",
      "138  Dpt of Innovation & Technology    147\n",
      "198             Property Management    146\n",
      "187        Neighborhood Development    134\n",
      "116             Boston City Council    122\n",
      "227    Workers Compensation Service    118\n",
      "154            Food & Nutrition Svc    100\n",
      "10             Assessing Department     85\n",
      "8                        Age Strong     79\n",
      "0               ASD Human Resources     78\n",
      "160  HPEC: Com Acd Science & Health     73\n",
      "184                  Mayor's Office     73\n",
      "199    Public Facilities Department     64\n",
      "177                  Law Department     63\n",
      "123        Boston Retirement System     62\n",
      "188           Neighborhood Services     61\n",
      "168         Info & Instr Technology     60\n",
      "209             Teaching & Learning     54\n",
      "213    Transportation-Parking Clerk     53\n",
      "147          English Language Learn     51\n",
      "143               Election Division     49\n",
      "192  Office of Economic Development     48\n",
      "191        Office of Arts & Culture     43\n",
      "149          Environment Department     42\n",
      "140         Early Learning Services     36\n",
      "11              Auditing Department     34\n",
      "214    Treasury-Collecting Division     33\n",
      "125               Cemetery Division     31\n",
      "215      Treasury-Treasury Division     29\n",
      "203          Research Assess & Eval     27\n",
      "193               Office of Streets     25\n",
      "3      ASD Office of Budget Mangmnt     25\n",
      "4           ASD Purchasing Division     22\n",
      "150           Fair Housing & Equity     22\n",
      "133    Consumer Affairs & Licensing     20\n",
      "127         Chief Financial Officer     20\n",
      "146            Emergency Management     20\n",
      "202               Registry Division     19\n",
      "194               Office of Tourism     18\n",
      "221              Veterans' Services     15\n",
      "130                      City Clerk     15\n",
      "128         Chief Operating Officer     14\n",
      "136                   Diplomas Plus     12\n",
      "1       ASD Intergvernmtl Relations     12\n",
      "2      ASD Office Of Labor Relation     11\n",
      "229   Youth Engagement & Employment     11\n",
      "7        Advancement & Ext. Affairs      8\n",
      "190       Office of Admin & Finance      7\n",
      "131  Comm. for Persons with Disabil      7\n",
      "148             Enrollment Services      6\n",
      "206             Strategy Department      5\n",
      "167           Immigrant Advancement      5\n",
      "124           Career & Technical Ed      5\n",
      "5                    Accountability      5\n",
      "129                  Chief of Staff      5\n",
      "170         Institutional Advancemt      4\n",
      "132                  Communications      4\n",
      "153              Finance Commission      4\n",
      "226             Women's Advancement      4\n",
      "126          Chief Academic Officer      4\n",
      "178                   Legal Advisor      2\n",
      "135    DND Neighborhood Development      1\n",
      "118    Boston Cntr-Youth & Families      1\n"
     ]
    }
   ],
   "source": [
    "#print all the possible departments and the number of employees, excluding BPS\n",
    "BPS_str = '^BPS |Elementary|Academy|K-8|Middle|High|School|Acad$|Pilot| EEC$| ELC$| EES$|9-12|Achievement Gap|Student|Superintendent'\n",
    "dept_counts = df_19.groupby('DEPARTMENT_NAME')['DEPARTMENT_NAME'].count().reset_index(name=\"count\")\n",
    "dept_counts = dept_counts.loc[dept_counts['DEPARTMENT_NAME'].str.contains(BPS_str, regex=True) == False].sort_values(\"count\", ascending=False)\n",
    "print(dept_counts)\n",
    "#print(df_19['DEPARTMENT_NAME'].unique())"
   ]
  },
  {
   "cell_type": "code",
   "execution_count": 5,
   "metadata": {},
   "outputs": [],
   "source": [
    "#create subsets of the dataframe for BPS, BPD, and BFD\n",
    "def subset_data(df):\n",
    "    school_df = (df.loc[df['DEPARTMENT_NAME'].str.contains(BPS_str, regex=True)])\n",
    "    police_df = df.loc[df['DEPARTMENT_NAME'] == 'Boston Police Department']\n",
    "    fire_df = df.loc[df['DEPARTMENT_NAME'] == 'Boston Fire Department']\n",
    "    return school_df, police_df, fire_df\n",
    "\n",
    "BPS_19, BPD_19, BFD_19 = subset_data(df_19)"
   ]
  },
  {
   "cell_type": "code",
   "execution_count": 6,
   "metadata": {},
   "outputs": [
    {
     "name": "stdout",
     "output_type": "stream",
     "text": [
      "TITLE      Sr Admin Asst\n",
      "REGULAR           123736\n",
      "dtype: object\n",
      "83562.17\n"
     ]
    }
   ],
   "source": [
    "print(np.max(BPD_19[['TITLE','REGULAR']].loc[BPD_19['TITLE'].str.contains('Admin\\s', regex=True)]))\n",
    "print(np.median(BPD_19[['REGULAR']].loc[BPD_19['TITLE'].str.contains('Admin\\s', regex=True)]))"
   ]
  },
  {
   "cell_type": "code",
   "execution_count": 7,
   "metadata": {},
   "outputs": [
    {
     "name": "stdout",
     "output_type": "stream",
     "text": [
      "519\n",
      "96334.23\n",
      "0.021517553793884484\n",
      "0.15836135738306328\n"
     ]
    }
   ],
   "source": [
    "#analyze overtime for BPD and BFD\n",
    "print((BPD_19.loc[BPD_19['TOTAL EARNINGS'] >= 200000])['NAME'].count())\n",
    "print(np.max(BFD_19['OVERTIME']))\n",
    "print(np.size(BFD_19.loc[BFD_19['OVERTIME'] > 50000])/np.size(BFD_19))\n",
    "print(np.size(BPD_19.loc[BPD_19['OVERTIME'] > 50000])/np.size(BPD_19))"
   ]
  },
  {
   "cell_type": "code",
   "execution_count": 30,
   "metadata": {},
   "outputs": [
    {
     "name": "stdout",
     "output_type": "stream",
     "text": [
      "                              TITLE  count\n",
      "118                  Police Officer   1346\n",
      "94                 Police Detective    309\n",
      "146             School Traffic Supv    191\n",
      "122                 Police Sergeant    185\n",
      "123           Police Sergeant (Det)    125\n",
      "99                Police Lieutenant     58\n",
      "15                   Cadet (Police)     53\n",
      "24     CommunEquipOp III, R-13 (CT)     52\n",
      "93          Police Clerk And Typist     52\n",
      "109  Police Offc Comm Serv Offc 3$8     51\n",
      "95                Police Dispatcher     42\n",
      "71           Jr  Building Custodian     38\n",
      "112     Police Offc Mobile Offc 2$6     38\n",
      "25     Communic. EquipOp II 9II(SS)     32\n",
      "66           Head Clerk & Secretary     29\n",
      "103      Police Offc Acad Instr 2$6     27\n",
      "100         Police Lieutenant (Det)     26\n",
      "115  Police Offc/FgrPrt Ev Tch 4$10     24\n",
      "82   Mtr Eq Rpprs ClassIBPDFleetBFD     21\n",
      "136                 Prin Admin Asst     18\n",
      "107          Police Offc Canine 2$6     18\n",
      "134   PoliceSergeant/SupvCourtCases     16\n",
      "120     Police Officer Hdq Dispatch     16\n",
      "91               Police Captain/DDC     15\n",
      "126  Police Sergeant/CHF RADIO DISP     15\n"
     ]
    }
   ],
   "source": [
    "#return the number of people with each title for a given department\n",
    "def get_job_counts(dept):\n",
    "    #group by job title and get counts\n",
    "    job_counts = dept.groupby('TITLE')['TITLE'].count()\n",
    "    \n",
    "    #give unnamed counts column the name 'counts'\n",
    "    job_counts = job_counts.reset_index(name=\"count\")\n",
    "    \n",
    "    #sort in descending order (greatest to least) and return\n",
    "    job_counts = job_counts.sort_values(\"count\", ascending=False)\n",
    "    return job_counts\n",
    "\n",
    "print(get_job_counts(BPD_19).head(25))"
   ]
  },
  {
   "cell_type": "code",
   "execution_count": 27,
   "metadata": {},
   "outputs": [
    {
     "name": "stdout",
     "output_type": "stream",
     "text": [
      "                              TITLE  count\n",
      "259                         Teacher   5188\n",
      "146                Paraprofessional   1344\n",
      "251              Substitute Teacher    426\n",
      "148   Part-Time Cafeteria Attendant    363\n",
      "131             Lunch Hour Monitors    341\n",
      "45                      Cab Monitor    337\n",
      "252           Substitute Teacher HE    298\n",
      "242          Standby Cab Monitor HE    242\n",
      "257  Surround Care Paraprofessional    206\n",
      "67      Community Field Coordinator    179\n",
      "143                 One to One Para    171\n",
      "139                           Nurse    169\n",
      "119                  Jr Cust/Nights    157\n",
      "238   Speech & Language Pathologist    154\n",
      "0              ABA Specialist (BTU)    137\n",
      "163        Prin Clerk/School Sec 19    135\n",
      "149             Part-Time Custodian    132\n",
      "93             Employment Agreement    131\n",
      "232   SpEd Support Svcs Coordinator    125\n",
      "248           Sub Teacher - Retiree    125\n",
      "207                      Sen Cust C    119\n",
      "235                Specialist (BTU)    101\n",
      "194          School Psychologist(1)     86\n",
      "203    Sen Clerk School Sec 766-15B     85\n",
      "64                   Coach (NonTPP)     84\n"
     ]
    }
   ],
   "source": [
    "print(get_job_counts(BPS_19).head(25))"
   ]
  },
  {
   "cell_type": "code",
   "execution_count": 29,
   "metadata": {},
   "outputs": [
    {
     "name": "stdout",
     "output_type": "stream",
     "text": [
      "                              TITLE  count\n",
      "83                     Fire Fighter    820\n",
      "87                  Fire Lieutenant    158\n",
      "86          Fire Fighter-Technician    150\n",
      "85   Fire Fighter-AdvanceTechnician     60\n",
      "77                     Fire Captain     52\n",
      "90   Fire Lieutenant Administration     35\n",
      "24                  Dist Fire Chief     25\n",
      "93       Fire Lieutenant-Technician     24\n",
      "76              Fire Alarm Operator     23\n",
      "84   Fire Fighter (InctComndSp) DFC     18\n",
      "79      Fire Captain Administration     18\n",
      "68   FF(IncidentCommandSpec)DFC-Tec     18\n",
      "32   District Fire Chief-Technician     16\n",
      "106                      Head Clerk     13\n",
      "92      Fire Lieutenant-AdvanceTech     11\n",
      "53   FF (FPDInspLevl1Certification)     11\n",
      "82          Fire Captain-Technician     10\n",
      "20    Dep Fire Chief Administration      9\n",
      "128                   Sr Admin Asst      9\n",
      "58               FF (Mas Of F Boat)      9\n",
      "66   FF(FPD Place of Assembly Insp)      9\n",
      "129            Sr Admin Asst (Fire)      9\n",
      "55           FF (Inct Comnd Sp) DEP      8\n",
      "91              Fire Lieutenant-ADR      8\n",
      "19                   Dep Fire Chief      8\n"
     ]
    }
   ],
   "source": [
    "print(get_job_counts(BFD_19).head(25))"
   ]
  },
  {
   "cell_type": "code",
   "execution_count": 36,
   "metadata": {},
   "outputs": [
    {
     "data": {
      "image/png": "[encoded data removed]",
      "text/plain": [
       "<Figure size 432x288 with 1 Axes>"
      ]
     },
     "metadata": {
      "needs_background": "light"
     },
     "output_type": "display_data"
    }
   ],
   "source": [
    "import matplotlib.pyplot as plt\n",
    "\n",
    "#get histogram of total pay for a position within a department, excluding people that made $0 base pay\n",
    "def earnings_histogram(dept, title):\n",
    "    x = dept.loc[dept['TITLE'] == title].loc[dept['REGULAR']>0]['TOTAL EARNINGS']\n",
    "    plt.hist(x)\n",
    "    \n",
    "earnings_histogram(BPD_19, 'Police Detective')"
   ]
  },
  {
   "cell_type": "code",
   "execution_count": null,
   "metadata": {},
   "outputs": [],
   "source": []
  }
 ],
 "metadata": {
  "kernelspec": {
   "display_name": "Python 3",
   "language": "python",
   "name": "python3"
  },
  "language_info": {
   "codemirror_mode": {
    "name": "ipython",
    "version": 3
   },
   "file_extension": ".py",
   "mimetype": "text/x-python",
   "name": "python",
   "nbconvert_exporter": "python",
   "pygments_lexer": "ipython3",
   "version": "3.7.4"
  }
 },
 "nbformat": 4,
 "nbformat_minor": 2
}
