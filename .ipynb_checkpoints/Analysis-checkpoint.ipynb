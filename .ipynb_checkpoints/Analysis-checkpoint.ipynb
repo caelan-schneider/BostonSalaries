{
 "cells": [
  {
   "cell_type": "code",
   "execution_count": 58,
   "metadata": {},
   "outputs": [],
   "source": [
    "import pandas as pd\n",
    "import numpy as np\n",
    "pd.set_option('display.max_rows', 200) "
   ]
  },
  {
   "cell_type": "code",
   "execution_count": 75,
   "metadata": {},
   "outputs": [
    {
     "data": {
      "text/html": [
       "<div>\n",
       "<style scoped>\n",
       "    .dataframe tbody tr th:only-of-type {\n",
       "        vertical-align: middle;\n",
       "    }\n",
       "\n",
       "    .dataframe tbody tr th {\n",
       "        vertical-align: top;\n",
       "    }\n",
       "\n",
       "    .dataframe thead th {\n",
       "        text-align: right;\n",
       "    }\n",
       "</style>\n",
       "<table border=\"1\" class=\"dataframe\">\n",
       "  <thead>\n",
       "    <tr style=\"text-align: right;\">\n",
       "      <th></th>\n",
       "      <th>Name</th>\n",
       "      <th>Department</th>\n",
       "      <th>Title</th>\n",
       "      <th>Regular</th>\n",
       "      <th>Retro</th>\n",
       "      <th>Other</th>\n",
       "      <th>Overtime</th>\n",
       "      <th>Injured</th>\n",
       "      <th>Detail</th>\n",
       "      <th>Quinn</th>\n",
       "      <th>Total</th>\n",
       "      <th>Postal</th>\n",
       "    </tr>\n",
       "  </thead>\n",
       "  <tbody>\n",
       "    <tr>\n",
       "      <td>0</td>\n",
       "      <td>Bottomley,Torii A</td>\n",
       "      <td>BPS Business Service</td>\n",
       "      <td>BPS Worker's Comp Job Class</td>\n",
       "      <td>-</td>\n",
       "      <td>-</td>\n",
       "      <td>-</td>\n",
       "      <td>-</td>\n",
       "      <td>772,034.24</td>\n",
       "      <td>-</td>\n",
       "      <td>-</td>\n",
       "      <td>772,034.24</td>\n",
       "      <td>1938</td>\n",
       "    </tr>\n",
       "    <tr>\n",
       "      <td>1</td>\n",
       "      <td>Smith,Lincoln</td>\n",
       "      <td>Workers Compensation Service</td>\n",
       "      <td>Workers Comp Job Classificatn</td>\n",
       "      <td>-</td>\n",
       "      <td>-</td>\n",
       "      <td>-</td>\n",
       "      <td>-</td>\n",
       "      <td>401,182.80</td>\n",
       "      <td>-</td>\n",
       "      <td>-</td>\n",
       "      <td>401,182.80</td>\n",
       "      <td>2125</td>\n",
       "    </tr>\n",
       "    <tr>\n",
       "      <td>2</td>\n",
       "      <td>Kervin,Timothy M.</td>\n",
       "      <td>Boston Police Department</td>\n",
       "      <td>Police Lieutenant/Hdq Dispatch</td>\n",
       "      <td>142,061.86</td>\n",
       "      <td>-</td>\n",
       "      <td>21,262.85</td>\n",
       "      <td>115,361.12</td>\n",
       "      <td>-</td>\n",
       "      <td>41,360.00</td>\n",
       "      <td>35,492.87</td>\n",
       "      <td>355,538.70</td>\n",
       "      <td>2135</td>\n",
       "    </tr>\n",
       "    <tr>\n",
       "      <td>3</td>\n",
       "      <td>Danilecki,John H</td>\n",
       "      <td>Boston Police Department</td>\n",
       "      <td>Police Captain</td>\n",
       "      <td>161,608.85</td>\n",
       "      <td>-</td>\n",
       "      <td>24,040.29</td>\n",
       "      <td>68,964.13</td>\n",
       "      <td>-</td>\n",
       "      <td>53,040.00</td>\n",
       "      <td>40,402.20</td>\n",
       "      <td>348,055.47</td>\n",
       "      <td>2081</td>\n",
       "    </tr>\n",
       "    <tr>\n",
       "      <td>4</td>\n",
       "      <td>Maguire,Joseph M</td>\n",
       "      <td>Boston Police Department</td>\n",
       "      <td>Police Sergeant/Hdq Dispatcher</td>\n",
       "      <td>128,912.77</td>\n",
       "      <td>-</td>\n",
       "      <td>7,128.30</td>\n",
       "      <td>121,616.21</td>\n",
       "      <td>-</td>\n",
       "      <td>55,544.00</td>\n",
       "      <td>31,310.86</td>\n",
       "      <td>344,512.14</td>\n",
       "      <td>2038</td>\n",
       "    </tr>\n",
       "  </tbody>\n",
       "</table>\n",
       "</div>"
      ],
      "text/plain": [
       "                Name                    Department  \\\n",
       "0  Bottomley,Torii A          BPS Business Service   \n",
       "1      Smith,Lincoln  Workers Compensation Service   \n",
       "2  Kervin,Timothy M.      Boston Police Department   \n",
       "3   Danilecki,John H      Boston Police Department   \n",
       "4   Maguire,Joseph M      Boston Police Department   \n",
       "\n",
       "                            Title        Regular   Retro         Other  \\\n",
       "0     BPS Worker's Comp Job Class           -       -             -      \n",
       "1   Workers Comp Job Classificatn           -       -             -      \n",
       "2  Police Lieutenant/Hdq Dispatch    142,061.86     -       21,262.85    \n",
       "3                  Police Captain    161,608.85     -       24,040.29    \n",
       "4  Police Sergeant/Hdq Dispatcher    128,912.77     -        7,128.30    \n",
       "\n",
       "        Overtime        Injured        Detail         Quinn       Total  \\\n",
       "0           -       772,034.24           -             -     772,034.24   \n",
       "1           -       401,182.80           -             -     401,182.80   \n",
       "2    115,361.12            -       41,360.00     35,492.87   355,538.70   \n",
       "3     68,964.13            -       53,040.00     40,402.20   348,055.47   \n",
       "4    121,616.21            -       55,544.00     31,310.86   344,512.14   \n",
       "\n",
       "   Postal  \n",
       "0    1938  \n",
       "1    2125  \n",
       "2    2135  \n",
       "3    2081  \n",
       "4    2038  "
      ]
     },
     "execution_count": 75,
     "metadata": {},
     "output_type": "execute_result"
    }
   ],
   "source": [
    "#read in the CSV file\n",
    "col_headers = ['Name', 'Department', 'Title', 'Regular', 'Retro', 'Other', 'Overtime', 'Injured', 'Detail', 'Quinn', 'Total', 'Postal']\n",
    "df_19 = pd.read_csv('./data/salaries_2019.csv', skiprows=1, names=col_headers, )\n",
    "df_19.head(5)"
   ]
  },
  {
   "cell_type": "code",
   "execution_count": 76,
   "metadata": {},
   "outputs": [
    {
     "name": "stdout",
     "output_type": "stream",
     "text": [
      "Name           object\n",
      "Department     object\n",
      "Title          object\n",
      "Regular       float64\n",
      "Retro         float64\n",
      "Other         float64\n",
      "Overtime      float64\n",
      "Injured       float64\n",
      "Detail        float64\n",
      "Quinn         float64\n",
      "Total         float64\n",
      "Postal         object\n",
      "dtype: object\n"
     ]
    }
   ],
   "source": [
    "#perform necessary data cleaning and type casting\n",
    "def preprocess_data(df):\n",
    "    #remove whitespace in column headers\n",
    "    df.columns = [col.strip() for col in df.columns]\n",
    "\n",
    "    #convert the first three columns from type 'object' to 'string'\n",
    "    df[df.columns[0:3]] = df[df.columns[0:3]].astype(str)\n",
    " \n",
    "    #clean the remaining columns and convert from type 'object' to 'float', except for the last (Postal)\n",
    "    df[df.columns[3:-1]] = df[df.columns[3:-1]].astype(str).applymap(lambda x: x.strip()) \\\n",
    "    .replace({'^-$|^None$':0, ',':'', '\\(':'', '\\)':'', '\\$':''}, regex=True).astype(float)\n",
    "    \n",
    "    #cast postal code to type 'string'\n",
    "    df['Postal'] = df['Postal'].astype(str)\n",
    "    \n",
    "preprocess_data(df_19)\n",
    "\n",
    "#confirm the types are changed by printing the data types\n",
    "print(df_19.dtypes)"
   ]
  },
  {
   "cell_type": "code",
   "execution_count": 65,
   "metadata": {},
   "outputs": [
    {
     "name": "stdout",
     "output_type": "stream",
     "text": [
      "                         Department  count\n",
      "121        Boston Police Department   3271\n",
      "120          Boston Fire Department   1766\n",
      "122           Boston Public Library    562\n",
      "117  Boston Cntr - Youth & Families    497\n",
      "200         Public Works Department    436\n",
      "212                Traffic Division    388\n",
      "196                Parks Department    359\n",
      "169      Inspectional Services Dept    222\n",
      "138  Dpt of Innovation & Technology    147\n",
      "198             Property Management    146\n",
      "187        Neighborhood Development    134\n",
      "116             Boston City Council    122\n",
      "227    Workers Compensation Service    118\n",
      "154            Food & Nutrition Svc    100\n",
      "10             Assessing Department     85\n",
      "8                        Age Strong     79\n",
      "0               ASD Human Resources     78\n",
      "160  HPEC: Com Acd Science & Health     73\n",
      "184                  Mayor's Office     73\n",
      "199    Public Facilities Department     64\n",
      "177                  Law Department     63\n",
      "123        Boston Retirement System     62\n",
      "188           Neighborhood Services     61\n",
      "168         Info & Instr Technology     60\n",
      "209             Teaching & Learning     54\n",
      "213    Transportation-Parking Clerk     53\n",
      "147          English Language Learn     51\n",
      "143               Election Division     49\n",
      "192  Office of Economic Development     48\n",
      "191        Office of Arts & Culture     43\n",
      "149          Environment Department     42\n",
      "140         Early Learning Services     36\n",
      "11              Auditing Department     34\n",
      "214    Treasury-Collecting Division     33\n",
      "125               Cemetery Division     31\n",
      "215      Treasury-Treasury Division     29\n",
      "203          Research Assess & Eval     27\n",
      "193               Office of Streets     25\n",
      "3      ASD Office of Budget Mangmnt     25\n",
      "4           ASD Purchasing Division     22\n",
      "150           Fair Housing & Equity     22\n",
      "133    Consumer Affairs & Licensing     20\n",
      "127         Chief Financial Officer     20\n",
      "146            Emergency Management     20\n",
      "202               Registry Division     19\n",
      "194               Office of Tourism     18\n",
      "221              Veterans' Services     15\n",
      "130                      City Clerk     15\n",
      "128         Chief Operating Officer     14\n",
      "136                   Diplomas Plus     12\n",
      "1       ASD Intergvernmtl Relations     12\n",
      "2      ASD Office Of Labor Relation     11\n",
      "229   Youth Engagement & Employment     11\n",
      "7        Advancement & Ext. Affairs      8\n",
      "190       Office of Admin & Finance      7\n",
      "131  Comm. for Persons with Disabil      7\n",
      "148             Enrollment Services      6\n",
      "206             Strategy Department      5\n",
      "167           Immigrant Advancement      5\n",
      "124           Career & Technical Ed      5\n",
      "5                    Accountability      5\n",
      "129                  Chief of Staff      5\n",
      "170         Institutional Advancemt      4\n",
      "132                  Communications      4\n",
      "153              Finance Commission      4\n",
      "226             Women's Advancement      4\n",
      "126          Chief Academic Officer      4\n",
      "178                   Legal Advisor      2\n",
      "135    DND Neighborhood Development      1\n",
      "118    Boston Cntr-Youth & Families      1\n"
     ]
    }
   ],
   "source": [
    "#print all the possible departments and the number of employees, excluding BPS\n",
    "BPS_str = '^BPS |Elementary|Academy|K-8|Middle|High|School|Acad$|Pilot| EEC$| ELC$| EES$|9-12|Achievement Gap|Student|Superintendent'\n",
    "dept_counts = df_19.groupby('Department')['Department'].count().reset_index(name=\"count\")\n",
    "dept_counts = dept_counts.loc[dept_counts['Department'].str.contains(BPS_str, regex=True) == False].sort_values(\"count\", ascending=False)\n",
    "print(dept_counts)"
   ]
  },
  {
   "cell_type": "code",
   "execution_count": 66,
   "metadata": {},
   "outputs": [],
   "source": [
    "#create subsets of the dataframe for BPS, BPD, and BFD\n",
    "def subset_data(df):\n",
    "    school_df = (df.loc[df['Department'].str.contains(BPS_str, regex=True)])\n",
    "    police_df = df.loc[df['Department'] == 'Boston Police Department']\n",
    "    fire_df = df.loc[df['Department'] == 'Boston Fire Department']\n",
    "    return school_df, police_df, fire_df\n",
    "\n",
    "BPS_19, BPD_19, BFD_19 = subset_data(df_19)"
   ]
  },
  {
   "cell_type": "code",
   "execution_count": 67,
   "metadata": {},
   "outputs": [
    {
     "name": "stdout",
     "output_type": "stream",
     "text": [
      "Title      Sr Admin Asst\n",
      "Regular           123736\n",
      "dtype: object\n",
      "83562.17\n"
     ]
    }
   ],
   "source": [
    "print(np.max(BPD_19[['Title','Regular']].loc[BPD_19['Title'].str.contains('Admin\\s', regex=True)]))\n",
    "print(np.median(BPD_19[['Regular']].loc[BPD_19['Title'].str.contains('Admin\\s', regex=True)]))"
   ]
  },
  {
   "cell_type": "code",
   "execution_count": 68,
   "metadata": {},
   "outputs": [
    {
     "name": "stdout",
     "output_type": "stream",
     "text": [
      "519\n",
      "96334.23\n",
      "0.021517553793884484\n",
      "0.15836135738306328\n"
     ]
    }
   ],
   "source": [
    "#analyze overtime for BPD and BFD\n",
    "print((BPD_19.loc[BPD_19['Total'] >= 200000])['Name'].count())\n",
    "print(np.max(BFD_19['Overtime']))\n",
    "print(np.size(BFD_19.loc[BFD_19['Overtime'] > 50000])/np.size(BFD_19))\n",
    "print(np.size(BPD_19.loc[BPD_19['Overtime'] > 50000])/np.size(BPD_19))"
   ]
  },
  {
   "cell_type": "code",
   "execution_count": 69,
   "metadata": {},
   "outputs": [
    {
     "name": "stdout",
     "output_type": "stream",
     "text": [
      "                              Title  count\n",
      "118                  Police Officer   1346\n",
      "94                 Police Detective    309\n",
      "146             School Traffic Supv    191\n",
      "122                 Police Sergeant    185\n",
      "123           Police Sergeant (Det)    125\n",
      "99                Police Lieutenant     58\n",
      "15                   Cadet (Police)     53\n",
      "24     CommunEquipOp III, R-13 (CT)     52\n",
      "93          Police Clerk And Typist     52\n",
      "109  Police Offc Comm Serv Offc 3$8     51\n",
      "95                Police Dispatcher     42\n",
      "71           Jr  Building Custodian     38\n",
      "112     Police Offc Mobile Offc 2$6     38\n",
      "25     Communic. EquipOp II 9II(SS)     32\n",
      "66           Head Clerk & Secretary     29\n",
      "103      Police Offc Acad Instr 2$6     27\n",
      "100         Police Lieutenant (Det)     26\n",
      "115  Police Offc/FgrPrt Ev Tch 4$10     24\n",
      "82   Mtr Eq Rpprs ClassIBPDFleetBFD     21\n",
      "136                 Prin Admin Asst     18\n",
      "107          Police Offc Canine 2$6     18\n",
      "134   PoliceSergeant/SupvCourtCases     16\n",
      "120     Police Officer Hdq Dispatch     16\n",
      "91               Police Captain/DDC     15\n",
      "126  Police Sergeant/CHF RADIO DISP     15\n"
     ]
    }
   ],
   "source": [
    "#return the number of people with each title for a given department\n",
    "def get_job_counts(dept):\n",
    "    #group by job title and get counts\n",
    "    job_counts = dept.groupby('Title')['Title'].count()\n",
    "    \n",
    "    #give unnamed counts column the name 'counts'\n",
    "    job_counts = job_counts.reset_index(name=\"count\")\n",
    "    \n",
    "    #sort in descending order (greatest to least) and return\n",
    "    job_counts = job_counts.sort_values(\"count\", ascending=False)\n",
    "    return job_counts\n",
    "\n",
    "print(get_job_counts(BPD_19).head(25))"
   ]
  },
  {
   "cell_type": "code",
   "execution_count": 70,
   "metadata": {},
   "outputs": [
    {
     "name": "stdout",
     "output_type": "stream",
     "text": [
      "                              Title  count\n",
      "260                         Teacher   5200\n",
      "147                Paraprofessional   1344\n",
      "252              Substitute Teacher    426\n",
      "149   Part-Time Cafeteria Attendant    363\n",
      "132             Lunch Hour Monitors    341\n",
      "45                      Cab Monitor    337\n",
      "253           Substitute Teacher HE    298\n",
      "243          Standby Cab Monitor HE    242\n",
      "258  Surround Care Paraprofessional    206\n",
      "68      Community Field Coordinator    179\n",
      "144                 One to One Para    171\n",
      "140                           Nurse    169\n",
      "94             Employment Agreement    160\n",
      "120                  Jr Cust/Nights    157\n",
      "239   Speech & Language Pathologist    154\n",
      "0              ABA Specialist (BTU)    137\n",
      "164        Prin Clerk/School Sec 19    135\n",
      "150             Part-Time Custodian    132\n",
      "233   SpEd Support Svcs Coordinator    125\n",
      "249           Sub Teacher - Retiree    125\n",
      "208                      Sen Cust C    119\n",
      "236                Specialist (BTU)    101\n",
      "195          School Psychologist(1)     86\n",
      "204    Sen Clerk School Sec 766-15B     85\n",
      "65                   Coach (NonTPP)     84\n"
     ]
    }
   ],
   "source": [
    "print(get_job_counts(BPS_19).head(25))"
   ]
  },
  {
   "cell_type": "code",
   "execution_count": 71,
   "metadata": {},
   "outputs": [
    {
     "name": "stdout",
     "output_type": "stream",
     "text": [
      "                              Title  count\n",
      "83                     Fire Fighter    820\n",
      "87                  Fire Lieutenant    158\n",
      "86          Fire Fighter-Technician    150\n",
      "85   Fire Fighter-AdvanceTechnician     60\n",
      "77                     Fire Captain     52\n",
      "90   Fire Lieutenant Administration     35\n",
      "24                  Dist Fire Chief     25\n",
      "93       Fire Lieutenant-Technician     24\n",
      "76              Fire Alarm Operator     23\n",
      "84   Fire Fighter (InctComndSp) DFC     18\n",
      "79      Fire Captain Administration     18\n",
      "68   FF(IncidentCommandSpec)DFC-Tec     18\n",
      "32   District Fire Chief-Technician     16\n",
      "106                      Head Clerk     13\n",
      "92      Fire Lieutenant-AdvanceTech     11\n",
      "53   FF (FPDInspLevl1Certification)     11\n",
      "82          Fire Captain-Technician     10\n",
      "20    Dep Fire Chief Administration      9\n",
      "128                   Sr Admin Asst      9\n",
      "58               FF (Mas Of F Boat)      9\n",
      "66   FF(FPD Place of Assembly Insp)      9\n",
      "129            Sr Admin Asst (Fire)      9\n",
      "55           FF (Inct Comnd Sp) DEP      8\n",
      "91              Fire Lieutenant-ADR      8\n",
      "19                   Dep Fire Chief      8\n"
     ]
    }
   ],
   "source": [
    "print(get_job_counts(BFD_19).head(25))"
   ]
  },
  {
   "cell_type": "code",
   "execution_count": 72,
   "metadata": {},
   "outputs": [
    {
     "data": {
      "image/png": "[encoded data removed]",
      "text/plain": [
       "<Figure size 432x288 with 1 Axes>"
      ]
     },
     "metadata": {
      "needs_background": "light"
     },
     "output_type": "display_data"
    }
   ],
   "source": [
    "import matplotlib.pyplot as plt\n",
    "\n",
    "#get histogram of total pay for a position within a department, excluding people that made $0 base pay\n",
    "def earnings_histogram(dept, title):\n",
    "    x = dept.loc[dept['Title'] == title].loc[dept['Regular']>0]['Total']\n",
    "    plt.hist(x)\n",
    "    \n",
    "earnings_histogram(BPD_19, 'Police Detective') "
   ]
  },
  {
   "cell_type": "code",
   "execution_count": 73,
   "metadata": {},
   "outputs": [
    {
     "data": {
      "image/png": "[encoded data removed]",
      "text/plain": [
       "<Figure size 432x288 with 1 Axes>"
      ]
     },
     "metadata": {
      "needs_background": "light"
     },
     "output_type": "display_data"
    }
   ],
   "source": [
    "earnings_histogram(BPD_19, 'Police Officer')"
   ]
  },
  {
   "cell_type": "code",
   "execution_count": 77,
   "metadata": {},
   "outputs": [
    {
     "name": "stdout",
     "output_type": "stream",
     "text": [
      "Name           object\n",
      "Department     object\n",
      "Title          object\n",
      "Regular       float64\n",
      "Retro         float64\n",
      "Other         float64\n",
      "Overtime      float64\n",
      "Injured       float64\n",
      "Detail        float64\n",
      "Quinn         float64\n",
      "Total         float64\n",
      "Postal         object\n",
      "dtype: object\n"
     ]
    }
   ],
   "source": [
    "df_11 = pd.read_csv('./data/salaries_2011.csv', skiprows=1, names=col_headers)\n",
    "#preprocess_data(df_11)\n",
    "#print(df_11.dtypes)\n",
    "df_11[df_11.columns[3:-1]] = df_11[df_11.columns[3:-1]].astype(str).applymap(lambda x: x.strip()) \\\n",
    "    .replace({'^-$|^None$':0, ',':'', '\\(':'', '\\)':'', '\\$':''}, regex=True).astype(float)\n",
    "print(df_11.dtypes)"
   ]
  },
  {
   "cell_type": "code",
   "execution_count": null,
   "metadata": {},
   "outputs": [],
   "source": []
  }
 ],
 "metadata": {
  "kernelspec": {
   "display_name": "Python 3",
   "language": "python",
   "name": "python3"
  },
  "language_info": {
   "codemirror_mode": {
    "name": "ipython",
    "version": 3
   },
   "file_extension": ".py",
   "mimetype": "text/x-python",
   "name": "python",
   "nbconvert_exporter": "python",
   "pygments_lexer": "ipython3",
   "version": "3.7.4"
  }
 },
 "nbformat": 4,
 "nbformat_minor": 2
}
