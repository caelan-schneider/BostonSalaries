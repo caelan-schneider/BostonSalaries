{
 "cells": [
  {
   "cell_type": "code",
   "execution_count": 92,
   "metadata": {},
   "outputs": [],
   "source": [
    "import pandas as pd\n",
    "import numpy as np"
   ]
  },
  {
   "cell_type": "code",
   "execution_count": 93,
   "metadata": {},
   "outputs": [],
   "source": [
    "#read in the CSV file\n",
    "df_19 = pd.read_csv('./data/salaries_2019.csv')"
   ]
  },
  {
   "cell_type": "code",
   "execution_count": 94,
   "metadata": {},
   "outputs": [
    {
     "name": "stdout",
     "output_type": "stream",
     "text": [
      "NAME                          object\n",
      "DEPARTMENT_NAME               object\n",
      "TITLE                         object\n",
      "REGULAR                      float64\n",
      "RETRO                        float64\n",
      "OTHER                        float64\n",
      "OVERTIME                     float64\n",
      "INJURED                      float64\n",
      "DETAIL                       float64\n",
      "QUINN/EDUCATION INCENTIVE    float64\n",
      "TOTAL EARNINGS               float64\n",
      "POSTAL                         int64\n",
      "dtype: object\n"
     ]
    }
   ],
   "source": [
    "def preprocess_data(df):\n",
    "    #remove whitespace in column headers\n",
    "    df.columns = [col.strip() for col in df.columns]\n",
    "\n",
    "    #convert the first three columns from type 'object' to 'string'\n",
    "    df[df.columns[0:3]] = df[df.columns[0:3]].astype(str)\n",
    " \n",
    "    #clean the remaining columns and convert from type 'object' to 'float', except for the last (POSTAL)\n",
    "    df[df.columns[3:-1]] = df[df.columns[3:-1]].applymap(lambda x: x.strip()) \\\n",
    "    .replace({'^-$':0, ',':'', '\\(':'', '\\)':''}, regex=True).astype(float)\n",
    "    \n",
    "preprocess_data(df_19)\n",
    "\n",
    "#confirm the types are changed by printing the data types\n",
    "print(df_19.dtypes)"
   ]
  },
  {
   "cell_type": "code",
   "execution_count": 96,
   "metadata": {},
   "outputs": [
    {
     "name": "stdout",
     "output_type": "stream",
     "text": [
      "['BPS Business Service' 'Workers Compensation Service'\n",
      " 'Boston Police Department' 'Boston Fire Department'\n",
      " 'Inspectional Services Dept' 'BPS Facility Management'\n",
      " 'Auditing Department' 'Chief of Staff' 'Boston Public Library'\n",
      " 'Dpt of Innovation & Technology' \"Mayor's Office\"\n",
      " 'Public Works Department' 'BPS Human Resource Team'\n",
      " 'Treasury-Treasury Division' 'Traffic Division'\n",
      " 'Public Facilities Department' 'Property Management'\n",
      " 'Kennedy, EM Health Academy' 'BPS High School Renewal'\n",
      " 'Chief Operating Officer' 'Achievement Gap' 'Fam & Student Engagemt'\n",
      " 'School Support & Tranformation' 'BPS Boston Latin'\n",
      " 'Advancement & Ext. Affairs' 'Jackson/Mann K-8' 'Tech Boston Academy'\n",
      " 'Parks Department' 'BPS Special Education' 'Unified Student Svc'\n",
      " \"BPS O'Bryant School\" 'BPS Charlestown High' 'BPS East Boston High'\n",
      " 'Strategy Department' 'Election Division' 'Law Department'\n",
      " 'Neighborhood Development' 'Teaching & Learning' 'BPS Madison Park High'\n",
      " 'BPS Equity' 'Boston Retirement System' 'Chief Academic Officer'\n",
      " 'Henderson Elementary' 'BPS Facility Mgmt/A & R' 'BPS Murphy Elementary'\n",
      " 'Curley K-8' 'Chief Financial Officer' 'Eliot K-8'\n",
      " 'BPS Condon Elementary' 'BPS Orchard Gardens K-8 Pilot'\n",
      " 'BPS Lee Elementary' 'BPS Cl#10 Lee Academy' 'English Language Learn'\n",
      " 'Office of Economic Development' 'Umana Middle' 'BPS Dever Elementary'\n",
      " 'BPS Quincy Elementary' 'BPS Everett Elementary'\n",
      " 'BPS Health and Wellness' 'BPS Brighton High' 'Early Learning Services'\n",
      " 'Food & Nutrition Svc' 'BPS Mather Elementary' 'Superintendent'\n",
      " 'BPS Counseling Service' 'BPS Chittick Elementary'\n",
      " 'ASD Office of Budget Mangmnt' 'Roosevelt K-8' 'BPS Edwards Middle'\n",
      " 'BPS School Safety Service' 'Cemetery Division'\n",
      " 'BPS Harvard/Kent Elementary' 'BPS Fenway High' 'BPS Mckay Elementary'\n",
      " 'BPS Tynan Elementary' 'Gardner Pilot  Academy' 'Lyon Pilot High 9-12'\n",
      " 'BPS Latin Academy' 'BPS Burke High' 'Neighborhood Services'\n",
      " 'Quincy Upper School' 'BPS Dearborn Middle'\n",
      " 'Boston Cntr - Youth & Families' 'BPS Mendell Elementary'\n",
      " 'BPS Grew Elementary' 'Warren/Prescott K-8' 'Newcomers Academy'\n",
      " 'BPS Sumner Elementary' 'BPS Adult Education' 'Career & Technical Ed'\n",
      " 'BPS Winship Elementary' 'BPS Otis Elementary' 'Margarita Muniz Academy'\n",
      " 'Perry K-8' 'Haley Pilot' 'BPS South Boston HS - Excel'\n",
      " 'BPS New Mission Pilot' 'BPS Timilty Middle' 'BPS Winthrop Elementary'\n",
      " 'Mildred Avenue K-8' 'BPS Transportation' 'Office of Streets'\n",
      " 'Assessing Department' 'Consumer Affairs & Licensing'\n",
      " 'BPS Guild Elementary' 'BPS McKinley Middle' 'Green Academy'\n",
      " 'Mattahunt Elementary School' 'BPS Boston Arts Academy'\n",
      " 'BPS Boston Evening Academy' 'BPS Manning Elementary'\n",
      " 'Treasury-Collecting Division' 'Emergency Management' 'BTU Pilot'\n",
      " 'Info & Instr Technology' 'BPS Taylor Elementary'\n",
      " 'Environment Department' 'BPS Channing Elementary'\n",
      " 'BPS Beethoven Elementary' 'Fenway High School' 'Higginson/Lewis K-8'\n",
      " 'Research Assess & Eval' 'BPS Horace Mann' 'Frederick Pilot Middle'\n",
      " 'Haynes EEC' 'BPS Boston International HS' 'BPS Hennigan Elementary'\n",
      " 'BPS Conley Elementary' 'Tobin K-8' 'BPS Carter Center'\n",
      " 'BPS Mason Elementary' 'Student Support Svc' 'Edison K-8'\n",
      " 'BPS Snowden International Hi' 'BPS Kenny Elementary' 'City Clerk'\n",
      " 'BPS Boston Comm Leadership Ac' 'BPS English High'\n",
      " 'Boston Collaborative High Sch' 'Greenwood, S K-8' 'King K-8'\n",
      " 'BPS Alternative Education HS' 'Dudley St. Neighborhood School'\n",
      " 'BPS McCormack Middle' 'Finance Commission' 'BPS Irving Middle'\n",
      " 'Diplomas Plus' 'BPS Another Course To Colleg' 'Young Achievers K-8'\n",
      " 'BPS Hale Elementary' 'Kennedy, JF Elementary' 'Kennedy, PJ Elementary'\n",
      " 'BPS Bradley Elementary' 'BPS Community Academy' 'ASD Human Resources'\n",
      " 'BPS Higginson Elementary' 'Transportation-Parking Clerk'\n",
      " 'BPS Trotter Elementary' 'BPS Ellis Elementary' 'East Boston EEC'\n",
      " 'BPS Bates Elementary' 'HPEC: Com Acd Science & Health'\n",
      " 'BPS Ohrenberger Elementary' 'BPS Holmes Elementary'\n",
      " 'UP \"Unlocking Potential\" Acad' 'Greater Egleston High'\n",
      " 'BPS Blackstone Elementary' 'Office of Arts & Culture'\n",
      " 'BPS Adams Elementary' 'Ellison/Parks EES' \"BPS O'Donnell Elementary\"\n",
      " 'Mission Hill K-8' 'BPS Philbrick Elementary' 'Lyndon K-8'\n",
      " 'BPS Counseling & Intervtn Ct' 'Kilmer K-8' 'BPS Clap Elementary'\n",
      " 'BPS Perkins Elementary' 'BPS Mozart Elementary'\n",
      " 'BPS Office Of Budget Mgmt' 'BPS Labor Relations' 'BPS Athletics'\n",
      " 'BPS Health Service' 'WREC: Urban Science Academy'\n",
      " 'ASD Office Of Labor Relation' 'Lyon K-8' 'Hurley K-8' 'West Zone ELC'\n",
      " 'ASD Intergvernmtl Relations' 'Hernandez K-8' 'BPS Russell Elementary'\n",
      " 'BPS Long Term Leave' 'UP Academy Dorchester' 'Baldwin ELC'\n",
      " 'ASD Purchasing Division' 'Office of Admin & Finance'\n",
      " 'P. A. Shaw Elementary' 'UP Academy Holland' 'BPS Alternative Education'\n",
      " 'West Roxbury Academy' 'Accountability' 'BPS Welcome Services'\n",
      " 'Boston City Council' 'Alighieri Montessori School' 'Enrollment Services'\n",
      " 'Fair Housing & Equity' 'Registry Division' 'Office of Tourism'\n",
      " 'Age Strong' 'Comm. for Persons with Disabil' \"Women's Advancement\"\n",
      " 'Institutional Advancemt' 'Communications' \"Veterans' Services\"\n",
      " 'BPS Boston School Committee' 'BPS Substitute Teachers/Nurs'\n",
      " 'Youth Engagement & Employment' 'Immigrant Advancement' 'Legal Advisor'\n",
      " 'DND Neighborhood Development' 'BPS Couseling Service'\n",
      " 'BPS South Boston High' 'BPS Withthrop Elementary'\n",
      " 'BPS Roland Hayes Div of Music' 'Dorchester Academy'\n",
      " 'Boston Cntr-Youth & Families' 'BPS Mattahunt Elementary'\n",
      " 'BPS Facilitites Management' 'BPS MPH\\\\Crafts Academy'\n",
      " 'BPS MPH\\\\Commerce Academy']\n"
     ]
    }
   ],
   "source": [
    "#print all the possible departments\n",
    "print(df_19['DEPARTMENT_NAME'].unique())"
   ]
  },
  {
   "cell_type": "code",
   "execution_count": 98,
   "metadata": {},
   "outputs": [],
   "source": [
    "#create subsets of the dataframe for BPS, BPD, and BFD\n",
    "def subset_data(df):\n",
    "    school_df = (df.loc[df['DEPARTMENT_NAME'].str.contains('^BPS', regex=True)])\n",
    "    police_df = df.loc[df['DEPARTMENT_NAME'] == 'Boston Police Department']\n",
    "    fire_df = df.loc[df['DEPARTMENT_NAME'] == 'Boston Fire Department']\n",
    "    return school_df, police_df, fire_df\n",
    "\n",
    "BPS_19, BPD_19, BFD_19 = subset_data(df_19)"
   ]
  },
  {
   "cell_type": "code",
   "execution_count": 121,
   "metadata": {},
   "outputs": [
    {
     "name": "stdout",
     "output_type": "stream",
     "text": [
      "TITLE      Sr Admin Asst\n",
      "REGULAR           123736\n",
      "dtype: object\n",
      "83562.17\n"
     ]
    }
   ],
   "source": [
    "print(np.max(BPD_19[['TITLE','REGULAR']].loc[BPD_19['TITLE'].str.contains('Admin\\s', regex=True)]))\n",
    "print(np.median(BPD_19[['REGULAR']].loc[BPD_19['TITLE'].str.contains('Admin\\s', regex=True)]))"
   ]
  },
  {
   "cell_type": "code",
   "execution_count": 102,
   "metadata": {},
   "outputs": [
    {
     "name": "stdout",
     "output_type": "stream",
     "text": [
      "179947.74\n",
      "96334.23\n",
      "0.021517553793884484\n",
      "0.15836135738306328\n"
     ]
    }
   ],
   "source": [
    "#analyze overtime for BPD and BFD\n",
    "print(np.max(BPD_19['OVERTIME']))\n",
    "print(np.max(BFD_19['OVERTIME']))\n",
    "print(np.size(BFD_19.loc[BFD_19['OVERTIME'] > 50000])/np.size(BFD_19))\n",
    "print(np.size(BPD_19.loc[BPD_19['OVERTIME'] > 50000])/np.size(BPD_19))"
   ]
  },
  {
   "cell_type": "code",
   "execution_count": 126,
   "metadata": {},
   "outputs": [
    {
     "data": {
      "text/plain": [
       "(array([1.157e+03, 6.770e+02, 3.960e+02, 2.410e+02, 1.340e+02, 4.100e+01,\n",
       "        2.500e+01, 7.000e+00, 2.000e+00, 1.000e+00]),\n",
       " array([1.54800000e+01, 1.80087060e+04, 3.60019320e+04, 5.39951580e+04,\n",
       "        7.19883840e+04, 8.99816100e+04, 1.07974836e+05, 1.25968062e+05,\n",
       "        1.43961288e+05, 1.61954514e+05, 1.79947740e+05]),\n",
       " <a list of 10 Patch objects>)"
      ]
     },
     "execution_count": 126,
     "metadata": {},
     "output_type": "execute_result"
    },
    {
     "data": {
      "image/png": "[encoded data removed]",
      "text/plain": [
       "<Figure size 432x288 with 1 Axes>"
      ]
     },
     "metadata": {
      "needs_background": "light"
     },
     "output_type": "display_data"
    }
   ],
   "source": [
    "import matplotlib.pyplot as plt\n",
    "x = BPD_19['OVERTIME'].loc[BPD_19['OVERTIME']>0]\n",
    "plt.hist(x)"
   ]
  },
  {
   "cell_type": "code",
   "execution_count": null,
   "metadata": {},
   "outputs": [],
   "source": []
  }
 ],
 "metadata": {
  "kernelspec": {
   "display_name": "Python 3",
   "language": "python",
   "name": "python3"
  },
  "language_info": {
   "codemirror_mode": {
    "name": "ipython",
    "version": 3
   },
   "file_extension": ".py",
   "mimetype": "text/x-python",
   "name": "python",
   "nbconvert_exporter": "python",
   "pygments_lexer": "ipython3",
   "version": "3.7.4"
  }
 },
 "nbformat": 4,
 "nbformat_minor": 2
}
